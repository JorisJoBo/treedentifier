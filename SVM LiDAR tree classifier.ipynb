{
 "cells": [
  {
   "cell_type": "code",
   "execution_count": 1,
   "metadata": {
    "collapsed": true,
    "scrolled": true
   },
   "outputs": [],
   "source": [
    "import numpy as np\n",
    "import csv\n",
    "from sklearn import svm\n",
    "from sklearn.svm import LinearSVC\n",
    "import itertools\n",
    "import time\n",
    "from multiprocessing.dummy import Pool as ThreadPool "
   ]
  },
  {
   "cell_type": "code",
   "execution_count": 2,
   "metadata": {
    "collapsed": true
   },
   "outputs": [],
   "source": [
    "filename = \"indexed_learning_data.csv\"\n",
    "data = []\n",
    "with open(filename) as f:\n",
    "    r = csv.reader(f, delimiter=',')\n",
    "    for line in r:\n",
    "        data.append(line)\n",
    "data = np.array(data[1:])"
   ]
  },
  {
   "cell_type": "code",
   "execution_count": 3,
   "metadata": {
    "scrolled": true
   },
   "outputs": [
    {
     "name": "stdout",
     "output_type": "stream",
     "text": [
      "[[  4.86460000e+05   2.56500000e+01   5.28900000e+01 ...,   4.91500000e+01\n",
      "    5.11900000e+01   4.90800000e+03]\n",
      " [  4.58697000e+05   3.31900000e+01   4.83000000e+01 ...,   4.37300000e+01\n",
      "    4.65400000e+01   1.19000000e+02]\n",
      " [  4.52080000e+05   3.51800000e+01   6.27800000e+01 ...,   5.84300000e+01\n",
      "    6.04300000e+01   1.09400000e+03]\n",
      " ..., \n",
      " [  4.58486000e+05   3.03500000e+01   3.86200000e+01 ...,   3.46100000e+01\n",
      "    3.60800000e+01   1.32000000e+02]\n",
      " [  4.51165000e+05   4.01000000e+01   5.18900000e+01 ...,   4.98000000e+01\n",
      "    5.10700000e+01   5.60000000e+01]\n",
      " [  4.50080000e+05   4.27800000e+01   6.88000000e+01 ...,   6.17500000e+01\n",
      "    6.42900000e+01   5.43000000e+02]]\n",
      "[0 1 0 ..., 1 6 1]\n",
      "[[  4.59704000e+05   2.89900000e+01   4.97900000e+01 ...,   4.78500000e+01\n",
      "    4.91900000e+01   5.80000000e+01]\n",
      " [  4.59690000e+05   2.62700000e+01   4.41700000e+01 ...,   4.14800000e+01\n",
      "    4.24000000e+01   1.60200000e+03]\n",
      " [  4.61350000e+05   6.25100000e+01   8.83500000e+01 ...,   7.71100000e+01\n",
      "    8.41000000e+01   0.00000000e+00]\n",
      " ..., \n",
      " [  4.54786000e+05   2.64300000e+01   4.64300000e+01 ...,   4.43100000e+01\n",
      "    4.48800000e+01   6.10000000e+01]\n",
      " [  4.60047000e+05   2.29400000e+01   2.84000000e+01 ...,   2.73300000e+01\n",
      "    2.80000000e+01   2.30000000e+01]\n",
      " [  4.55240000e+05   7.64000000e+00   2.30900000e+01 ...,   1.83100000e+01\n",
      "    2.01000000e+01   1.32200000e+03]]\n",
      "[14  1  4  3  4  4  1 12  1  9  4  1  2  2  4  4  1  9  1 21  0 10  9 13  1\n",
      "  1 10  1  1  9  1 15  1 12  2  9 12  2  0  1  4 17  1 19  2 22  1  1  0  2\n",
      "  2  2 12  1  1  1  1  3  2  6  1  2  1  2  1  2  2  0  9  4  1  2  1  2  6\n",
      "  4  2  4 11  3  1  1  1  1  1  3  1  2  2  2  1  1  2  1  1  1  2  4  1 13\n",
      "  2  1  6  1  1  2 12  1  7  3  4  3  2 17  4  2  3  1 13  1 12 14  1  1 13\n",
      "  4  1  4  0  2 13 11  2  3  2 20  1  4  1  2  1 17  1  9  2  2  1  1  2  3\n",
      "  2  1  9 15  2  3  1  4  1  2  2 10  4  1 10 11 14  1 14  3 10  1 16  1  9\n",
      "  2  2 10 10  6  1  4  1  1  2  2 10 10  9  1  2  3  4  9  4  4  1 15  1  2\n",
      "  1  2  1  5  2  3  1  2  2  1  4  3 13 15 20  0  4  2  2  1  0  1  1  1  2\n",
      "  5  2  2  1 17  1  2  1  2  1  1  3  6  1  4  1  2  1  2  2  0  1  1  3  1\n",
      "  1  0  2  9 11  3  9  1 14  3  9  1 13  4  3  2 10  4 12  4  7  2  4  1  1\n",
      " 10  1 11 14  1 17  1  2  9 16  2  3 10  2  1  3  2 15  9  1  1  9 14  1 18\n",
      "  9  2  1  1  1  1  1 10  1  4 13  9  1 15  2  0  7  4  2  9 18  1  2  2  4\n",
      "  9 11  1  2  8  4  1  1  1  2  1  4  0 16 14  2  4  2  1  2  9  1  3 13  2\n",
      "  3 14 10  2 10  2  3  3 15  1  1  1  1  1  9  1  0 17 14  2  1 10 11  1  1\n",
      "  1  3  9  1  9  2  1  1  2  2  1 12  1  2  0  1  1 13  1  3  5  1  1  3 14\n",
      "  2 17  1  1  2 14  8  3 14 10  2 13  4  2  2  0  1  4 15  1  1  9  1  2  5\n",
      "  9  1  2  1  9  2  6  0 17  4  1  4  1  1  0  2  1 12  1  2 12  1 13  1 15\n",
      "  1  2  5  1  1  1  1  1  1 13  1 16  9  2  4  1  1  1  2  2  0  1  1  1 14\n",
      "  1  2  9 10  2  1  3  1  9  9 17  4  1  2  2  1 13  6 13  2  2  2 13 14  6\n",
      "  3  1  9  2  1  4  1  5  1  1  1  3  1 14 19  2  4  1 14  1  0  0  2 14  2\n",
      "  4 18 10  2  1  1  2  3 11 13  3  1  3  1  3  1  1  4  1  1  1 10  4 10  4\n",
      "  4 17  2 13  1  1  2  4  2 12  6  1  1  2  2  3  1  2  0  3  1  1  1  2 15\n",
      "  1  4 12  9  9  0 21  1  2  2  3  4 17  3  0  1  5  9  2  1  4  1 12  9  2\n",
      "  3  2 14  2  2  0  2  1  2  6  1  1  1  4  1  1  9  4  2  2  3  2  1  5 11\n",
      "  1  1  1  1  0  9  1  2  1 13  2  1  1  2  2  2  4  1 13  1  4  2  2  1  3\n",
      "  1  2 10  1  3 14  1  1  5  2  1  2 11  3  1  1  1 20  1  1 14 17  2 20 10\n",
      "  0  3  1  2  2  2  0  1 17  4  4  1  1  3  4  1  3  4  4  6 17  4  2  1  1\n",
      "  2  9  2  1  1  2  2  3  1  1  9  2 14  9  1  4  3  2  9  3  2  4  3  6  1\n",
      " 13  5  2 11 10  2 10  6 15  4 20  1  1  2  0  1  9  1  1  1  4  7 10  1  9\n",
      "  0  1 14  1 13  1  5  2  1  1  2  4  9 13 11  8 16  1]\n"
     ]
    }
   ],
   "source": [
    "def validation_split(data, ratio):\n",
    "    shuffleData = np.copy(data)\n",
    "    np.random.shuffle(shuffleData)\n",
    "    border = int(ratio*len(shuffleData))\n",
    "    trainSet = shuffleData[:border]\n",
    "    valSet = shuffleData[border:]\n",
    "    Xt = trainSet[:,5:-2].astype(float)\n",
    "    Yt = trainSet[:,-1].astype(int)\n",
    "    Xv = valSet[:,5:-2].astype(float)\n",
    "    Yv = valSet[:,-1].astype(int)\n",
    "    Xt = np.delete(Xt, 11, 1)\n",
    "    Xv = np.delete(Xv, 11, 1)\n",
    "    return Xt, Yt, Xv, Yv\n",
    "\n",
    "Xt, Yt, Xv, Yv = validation_split(data, 0.8)\n",
    "print (Xt)\n",
    "print (Yt)\n",
    "print (Xv)\n",
    "print (Yv)"
   ]
  },
  {
   "cell_type": "code",
   "execution_count": 4,
   "metadata": {
    "collapsed": true
   },
   "outputs": [],
   "source": [
    "def average_accuracy(data, loops = 1000, c = 64, kernelType = 'rbf'):\n",
    "    score_list = []\n",
    "    for i in range(loops):\n",
    "        Xt, Yt, Xv, Yv = validation_split(data, 0.8)\n",
    "        svc = svm.SVC(kernel = kernelType, C = c)\n",
    "        svc = svc.fit(Xt, Yt)\n",
    "        score_list.append(svc.score(Xv, Yv))\n",
    "    return np.mean(np.array(score_list))"
   ]
  },
  {
   "cell_type": "code",
   "execution_count": 58,
   "metadata": {
    "scrolled": true
   },
   "outputs": [
    {
     "name": "stdout",
     "output_type": "stream",
     "text": [
      "0.323880208333 -5\n",
      "0.322135416667 -4\n",
      "0.319622395833 -3\n",
      "0.322708333333 -2\n",
      "0.336328125 -1\n",
      "0.3564453125 0\n",
      "0.372083333333 1\n",
      "0.369388020833 2\n",
      "0.372669270833 3\n",
      "0.374283854167 4\n",
      "0.374453125 5\n",
      "0.375208333333 6\n",
      "0.3726171875 7\n",
      "0.374635416667 8\n",
      "0.373684895833 9\n",
      "0.374583333333 10\n",
      "0.374296875 11\n",
      "0.3735546875 12\n",
      "0.373346354167 13\n",
      "0.371731770833 14\n",
      "0.375208333333 6\n"
     ]
    }
   ],
   "source": [
    "bestAcc = 0.0\n",
    "bestI = -6\n",
    "for i in range(-5,15):\n",
    "    acc = average_accuracy(data, loops = 100, c = (2**i))\n",
    "    print (acc, i)\n",
    "    if acc > bestAcc:\n",
    "        bestAcc = acc\n",
    "        bestI = i\n",
    "print (bestAcc, bestI)"
   ]
  },
  {
   "cell_type": "code",
   "execution_count": 60,
   "metadata": {
    "scrolled": false
   },
   "outputs": [
    {
     "name": "stdout",
     "output_type": "stream",
     "text": [
      "0.373307291667\n"
     ]
    }
   ],
   "source": [
    "print (average_accuracy(data, loops = 100))"
   ]
  },
  {
   "cell_type": "code",
   "execution_count": 43,
   "metadata": {
    "collapsed": true
   },
   "outputs": [],
   "source": [
    "filename = \"indexed_learning_val.csv\"\n",
    "new_data = []\n",
    "with open(filename) as f:\n",
    "    r = csv.reader(f, delimiter=';')\n",
    "    for line in r:\n",
    "        new_data.append(line)\n",
    "new_data = np.array(new_data[1:])"
   ]
  },
  {
   "cell_type": "code",
   "execution_count": 56,
   "metadata": {},
   "outputs": [
    {
     "data": {
      "text/plain": [
       "0.17801047120418848"
      ]
     },
     "execution_count": 56,
     "metadata": {},
     "output_type": "execute_result"
    }
   ],
   "source": [
    "svc = svm.SVC(C = 32)\n",
    "X = data[:,5:-2].astype(float)\n",
    "Y = data[:,-1].astype(int)\n",
    "new_X = new_data[:,5:-2].astype(float)\n",
    "new_Y = new_data[:,-1].astype(int)\n",
    "X = np.delete(X, 11, 1)\n",
    "new_X = np.delete(new_X, 11, 1)\n",
    "svc = svc.fit(X, Y)\n",
    "svc.score(new_X, new_Y)"
   ]
  },
  {
   "cell_type": "code",
   "execution_count": 4,
   "metadata": {
    "collapsed": true
   },
   "outputs": [],
   "source": [
    "def my_function(subset, data, loops = 100, c = 64, kernelType = 'rbf'):\n",
    "    times = []\n",
    "    accuracy = []\n",
    "    for i in range(loops):\n",
    "        start = time.time()\n",
    "        Xt, Yt, Xv, Yv = validation_split(data, 0.8)\n",
    "        varXt = Xt[:, subset]\n",
    "        varXv = Xv[:, subset]\n",
    "        svc = svm.SVC(kernel = kernelType, C = c)\n",
    "        svc = svc.fit(varXt, Yt)\n",
    "        accuracy.append(svc.score(varXv, Yv))\n",
    "        stop = time.time()\n",
    "        times.append(stop-start)\n",
    "    score = np.mean(np.array(accuracy))/(np.mean(times))\n",
    "    return (score, subset)\n",
    "\n",
    "def optimal_feature_finder(data, loops = 100, c = 64, kernelType = 'rbf'):\n",
    "    Xt, Yt, Xv, Yv = validation_split(data, 0.8)\n",
    "    indices = range(len(Xt[0]))\n",
    "    end = []\n",
    "    previous_best = (0, [])\n",
    "    for L in range(1, len(indices)+1):\n",
    "        print (\"Progress: \", L)\n",
    "        subsets = [previous_best[1]+[i] for i in indices if i not in previous_best[1]]\n",
    "        pool = ThreadPool(8) \n",
    "        results = pool.starmap(my_function, zip(subsets, itertools.repeat(data), itertools.repeat(loops), itertools.repeat(c), itertools.repeat(kernelType)))\n",
    "        pool.close() \n",
    "        pool.join() \n",
    "        end.append(max(results,key=lambda item:item[0]))\n",
    "        previous_best = end[-1]\n",
    "    return end"
   ]
  },
  {
   "cell_type": "code",
   "execution_count": 5,
   "metadata": {
    "scrolled": true
   },
   "outputs": [
    {
     "name": "stdout",
     "output_type": "stream",
     "text": [
      "Progress:  1\n",
      "Progress:  2\n",
      "Progress:  3\n",
      "Progress:  4\n",
      "Progress:  5\n",
      "Progress:  6\n",
      "Progress:  7\n",
      "Progress:  8\n",
      "Progress:  9\n",
      "Progress:  10\n",
      "Progress:  11\n",
      "Progress:  12\n",
      "Progress:  13\n",
      "Progress:  14\n",
      "[(0.4837377408931805, [1]), (0.7089594394280162, [1, 9]), (0.84617444999562041, [1, 9, 5]), (0.88017112291544986, [1, 9, 5, 6]), (0.91377201784258133, [1, 9, 5, 6, 12]), (0.58883001526239009, [1, 9, 5, 6, 12, 7]), (0.58487851867473883, [1, 9, 5, 6, 12, 7, 8]), (0.57239530525329019, [1, 9, 5, 6, 12, 7, 8, 10]), (0.58620613020391132, [1, 9, 5, 6, 12, 7, 8, 10, 3]), (0.58784942804896123, [1, 9, 5, 6, 12, 7, 8, 10, 3, 2]), (0.60905141052953582, [1, 9, 5, 6, 12, 7, 8, 10, 3, 2, 11]), (0.28324263952314044, [1, 9, 5, 6, 12, 7, 8, 10, 3, 2, 11, 0]), (0.17763683738756716, [1, 9, 5, 6, 12, 7, 8, 10, 3, 2, 11, 0, 13]), (0.10529244206247786, [1, 9, 5, 6, 12, 7, 8, 10, 3, 2, 11, 0, 13, 4])]\n",
      "(0.91377201784258133, [1, 9, 5, 6, 12])\n"
     ]
    }
   ],
   "source": [
    "feature_scores = optimal_feature_finder(data, loops=500)\n",
    "print (feature_scores)\n",
    "print (max(feature_scores,key=lambda item:item[0]))"
   ]
  },
  {
   "cell_type": "code",
   "execution_count": null,
   "metadata": {
    "collapsed": true
   },
   "outputs": [],
   "source": []
  }
 ],
 "metadata": {
  "kernelspec": {
   "display_name": "Python 3",
   "language": "python",
   "name": "python3"
  },
  "language_info": {
   "codemirror_mode": {
    "name": "ipython",
    "version": 3
   },
   "file_extension": ".py",
   "mimetype": "text/x-python",
   "name": "python",
   "nbconvert_exporter": "python",
   "pygments_lexer": "ipython3",
   "version": "3.6.3"
  }
 },
 "nbformat": 4,
 "nbformat_minor": 2
}
